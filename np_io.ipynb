{
 "cells": [
  {
   "cell_type": "code",
   "execution_count": 2,
   "metadata": {},
   "outputs": [],
   "source": [
    "import numpy as np\n",
    "from io import BytesIO"
   ]
  },
  {
   "cell_type": "code",
   "execution_count": 12,
   "metadata": {},
   "outputs": [
    {
     "data": {
      "text/plain": [
       "array([[1., 2., 3.],\n",
       "       [4., 5., 6.]])"
      ]
     },
     "execution_count": 12,
     "metadata": {},
     "output_type": "execute_result"
    }
   ],
   "source": [
    "data = \"1, 2, 3\\n4, 5, 6\"\n",
    "np.genfromtxt(BytesIO(data.encode('utf-8')), delimiter=\",\")"
   ]
  },
  {
   "cell_type": "code",
   "execution_count": 13,
   "metadata": {},
   "outputs": [
    {
     "data": {
      "text/plain": [
       "array([[  1.,   2.,   3.],\n",
       "       [  4.,   5.,  67.],\n",
       "       [890., 123.,   4.]])"
      ]
     },
     "execution_count": 13,
     "metadata": {},
     "output_type": "execute_result"
    }
   ],
   "source": [
    "data = \"  1  2  3\\n  4  5 67\\n890123  4\"\n",
    "np.genfromtxt(BytesIO(data.encode('utf-8')), delimiter=3)"
   ]
  },
  {
   "cell_type": "code",
   "execution_count": 14,
   "metadata": {},
   "outputs": [
    {
     "data": {
      "text/plain": [
       "array([[1234.,  567.,   89.],\n",
       "       [   4.,    7.,    9.],\n",
       "       [   4.,  567.,    9.]])"
      ]
     },
     "execution_count": 14,
     "metadata": {},
     "output_type": "execute_result"
    }
   ],
   "source": [
    "data = \"123456789\\n   4  7 9\\n   4567 9\"\n",
    "np.genfromtxt(BytesIO(data.encode('utf-8')), delimiter=(4, 3, 2))"
   ]
  },
  {
   "cell_type": "code",
   "execution_count": 15,
   "metadata": {},
   "outputs": [
    {
     "data": {
      "text/plain": [
       "array([[b'1', b'abc', b'2'],\n",
       "       [b'3', b'xxx', b'4']], dtype='|S5')"
      ]
     },
     "execution_count": 15,
     "metadata": {},
     "output_type": "execute_result"
    }
   ],
   "source": [
    "data = \"1, abc , 2\\n 3, xxx, 4\"\n",
    "np.genfromtxt(BytesIO(data.encode('utf-8')), delimiter=',', dtype='|S5', autostrip=True)"
   ]
  },
  {
   "cell_type": "code",
   "execution_count": 17,
   "metadata": {},
   "outputs": [
    {
     "data": {
      "text/plain": [
       "array([[1., 2.],\n",
       "       [3., 4.],\n",
       "       [5., 6.],\n",
       "       [7., 8.],\n",
       "       [9., 0.]])"
      ]
     },
     "execution_count": 17,
     "metadata": {},
     "output_type": "execute_result"
    }
   ],
   "source": [
    " data = \"\"\"#\n",
    "# Skip me !\n",
    "# Skip me too !\n",
    "1, 2\n",
    "3, 4\n",
    "5, 6 #This is the third line of the data\n",
    "7, 8\n",
    "# And here comes the last line\n",
    "9, 0\n",
    "\"\"\"\n",
    "np.genfromtxt(BytesIO(data.encode('utf-8')), comments=\"#\", delimiter=\",\")"
   ]
  },
  {
   "cell_type": "code",
   "execution_count": 18,
   "metadata": {},
   "outputs": [
    {
     "data": {
      "text/plain": [
       "array([0., 1., 2., 3., 4., 5., 6., 7., 8., 9.])"
      ]
     },
     "execution_count": 18,
     "metadata": {},
     "output_type": "execute_result"
    }
   ],
   "source": [
    "data = '\\n'.join(str(i) for i in range(10))\n",
    "np.genfromtxt(BytesIO(data.encode('utf-8')),)"
   ]
  },
  {
   "cell_type": "code",
   "execution_count": 19,
   "metadata": {},
   "outputs": [
    {
     "data": {
      "text/plain": [
       "array([3., 4.])"
      ]
     },
     "execution_count": 19,
     "metadata": {},
     "output_type": "execute_result"
    }
   ],
   "source": [
    "np.genfromtxt(BytesIO(data.encode('utf-8')), skip_header=3, skip_footer=5)"
   ]
  },
  {
   "cell_type": "code",
   "execution_count": 20,
   "metadata": {},
   "outputs": [
    {
     "data": {
      "text/plain": [
       "array([(1., 3.), (4., 6.)], dtype=[('a', '<f8'), ('c', '<f8')])"
      ]
     },
     "execution_count": 20,
     "metadata": {},
     "output_type": "execute_result"
    }
   ],
   "source": [
    "data = \"1 2 3\\n4 5 6\"\n",
    "np.genfromtxt(BytesIO(data.encode('utf-8')), names=\"a, b, c\", usecols=(\"a\", \"c\"))"
   ]
  },
  {
   "cell_type": "code",
   "execution_count": 21,
   "metadata": {},
   "outputs": [
    {
     "data": {
      "text/plain": [
       "array([(1., 3.), (4., 6.)], dtype=[('a', '<f8'), ('c', '<f8')])"
      ]
     },
     "execution_count": 21,
     "metadata": {},
     "output_type": "execute_result"
    }
   ],
   "source": [
    "np.genfromtxt(BytesIO(data.encode('utf-8')), names=\"a, b, c\", usecols=(\"a, c\"))"
   ]
  },
  {
   "cell_type": "code",
   "execution_count": 24,
   "metadata": {},
   "outputs": [
    {
     "data": {
      "text/plain": [
       "array([(1, 2, 3), (4, 5, 6)],\n",
       "      dtype=[('a', '<i8'), ('b', '<i8'), ('c', '<i8')])"
      ]
     },
     "execution_count": 24,
     "metadata": {},
     "output_type": "execute_result"
    }
   ],
   "source": [
    "data = BytesIO(\"1 2 3\\n 4 5 6\".encode('utf-8'))\n",
    "np.genfromtxt(data, dtype=[(_, int) for _ in \"abc\"])"
   ]
  },
  {
   "cell_type": "code",
   "execution_count": 25,
   "metadata": {},
   "outputs": [
    {
     "data": {
      "text/plain": [
       "array([(1., 2., 3.), (4., 5., 6.)],\n",
       "      dtype=[('A', '<f8'), ('B', '<f8'), ('C', '<f8')])"
      ]
     },
     "execution_count": 25,
     "metadata": {},
     "output_type": "execute_result"
    }
   ],
   "source": [
    "data = BytesIO(\"1 2 3\\n 4 5 6\".encode('utf-8'))\n",
    "np.genfromtxt(data, names=\"A, B, C\")"
   ]
  },
  {
   "cell_type": "code",
   "execution_count": 26,
   "metadata": {},
   "outputs": [
    {
     "data": {
      "text/plain": [
       "array([(1., 2., 3.), (4., 5., 6.)],\n",
       "      dtype=[('a', '<f8'), ('b', '<f8'), ('c', '<f8')])"
      ]
     },
     "execution_count": 26,
     "metadata": {},
     "output_type": "execute_result"
    }
   ],
   "source": [
    "data = BytesIO(\"So it goes\\n#a b c\\n1 2 3\\n 4 5 6\".encode('utf-8'))\n",
    "np.genfromtxt(data, skip_header=1, names=True)"
   ]
  },
  {
   "cell_type": "code",
   "execution_count": 29,
   "metadata": {},
   "outputs": [
    {
     "data": {
      "text/plain": [
       "array([(1, 2, 3), (4, 5, 6)],\n",
       "      dtype=[('A', '<i8'), ('B', '<i8'), ('C', '<i8')])"
      ]
     },
     "execution_count": 29,
     "metadata": {},
     "output_type": "execute_result"
    }
   ],
   "source": [
    "data = BytesIO(\"1 2 3\\n 4 5 6\".encode('utf-8'))\n",
    "ndtype = [('a', int), ('b', int), ('c', int)]\n",
    "names = ['A', 'B', 'C']\n",
    "np.genfromtxt(data, names=names, dtype=ndtype)"
   ]
  },
  {
   "cell_type": "code",
   "execution_count": 30,
   "metadata": {},
   "outputs": [
    {
     "data": {
      "text/plain": [
       "array([(1, 2., 3), (4, 5., 6)],\n",
       "      dtype=[('f0', '<i8'), ('f1', '<f8'), ('f2', '<i8')])"
      ]
     },
     "execution_count": 30,
     "metadata": {},
     "output_type": "execute_result"
    }
   ],
   "source": [
    "data = BytesIO(\"1 2 3\\n 4 5 6\".encode('utf-8'))\n",
    "np.genfromtxt(data, dtype=(int, float, int))"
   ]
  },
  {
   "cell_type": "code",
   "execution_count": 31,
   "metadata": {},
   "outputs": [
    {
     "data": {
      "text/plain": [
       "array([(1, 2., 3), (4, 5., 6)],\n",
       "      dtype=[('a', '<i8'), ('f0', '<f8'), ('f1', '<i8')])"
      ]
     },
     "execution_count": 31,
     "metadata": {},
     "output_type": "execute_result"
    }
   ],
   "source": [
    "data = BytesIO(\"1 2 3\\n 4 5 6\".encode('utf-8'))\n",
    "np.genfromtxt(data, dtype=(int, float, int), names='a')"
   ]
  },
  {
   "cell_type": "code",
   "execution_count": 32,
   "metadata": {},
   "outputs": [
    {
     "data": {
      "text/plain": [
       "array([(1, 2., 3), (4, 5., 6)],\n",
       "      dtype=[('var_00', '<i8'), ('var_01', '<f8'), ('var_02', '<i8')])"
      ]
     },
     "execution_count": 32,
     "metadata": {},
     "output_type": "execute_result"
    }
   ],
   "source": [
    "data = BytesIO(\"1 2 3\\n 4 5 6\".encode('utf-8'))\n",
    "np.genfromtxt(data, dtype=(int, float, int), defaultfmt='var_%02i')"
   ]
  },
  {
   "cell_type": "code",
   "execution_count": 33,
   "metadata": {},
   "outputs": [
    {
     "data": {
      "text/plain": [
       "array([(1., nan, 45.), (6., nan,  0.)],\n",
       "      dtype=[('A', '<f8'), ('B', '<f8'), ('C', '<f8')])"
      ]
     },
     "execution_count": 33,
     "metadata": {},
     "output_type": "execute_result"
    }
   ],
   "source": [
    "convertfunc = lambda x: float(x.strip('%'))/100.\n",
    "data = '1, 2.3%, 45.\\n6, 78.9%, 0'\n",
    "np.genfromtxt(BytesIO(data.encode('utf-8')), delimiter=',', names=names)"
   ]
  },
  {
   "cell_type": "code",
   "execution_count": 37,
   "metadata": {},
   "outputs": [],
   "source": [
    "# np.genfromtxt(BytesIO(data), delimiter=',', names=names, converters={1: convertfunc})"
   ]
  },
  {
   "cell_type": "code",
   "execution_count": 38,
   "metadata": {},
   "outputs": [
    {
     "data": {
      "text/plain": [
       "array([(1., nan, 45.), (6., nan,  0.)],\n",
       "      dtype=[('A', '<f8'), ('B', '<f8'), ('C', '<f8')])"
      ]
     },
     "execution_count": 38,
     "metadata": {},
     "output_type": "execute_result"
    }
   ],
   "source": [
    "np.genfromtxt(BytesIO(data), delimiter=',', names=names, converters={'p': convertfunc})"
   ]
  },
  {
   "cell_type": "code",
   "execution_count": 40,
   "metadata": {},
   "outputs": [
    {
     "data": {
      "text/plain": [
       "array([[   1., -999.,    3.],\n",
       "       [   4.,    5.,    6.]])"
      ]
     },
     "execution_count": 40,
     "metadata": {},
     "output_type": "execute_result"
    }
   ],
   "source": [
    "data = \"1, , 3\\n 4, 5, 6\"\n",
    "convert = lambda x: float(x.strip() or -999)\n",
    "np.genfromtxt(BytesIO(data.encode('utf-8')), delimiter=',', converters={1: convert})"
   ]
  },
  {
   "cell_type": "code",
   "execution_count": 41,
   "metadata": {},
   "outputs": [
    {
     "data": {
      "text/plain": [
       "array([(0, 2,    3), (4, 0, -999)],\n",
       "      dtype=[('a', '<i8'), ('b', '<i8'), ('c', '<i8')])"
      ]
     },
     "execution_count": 41,
     "metadata": {},
     "output_type": "execute_result"
    }
   ],
   "source": [
    "data = \"N/A, 2, 3\\n4, ,???\"\n",
    "kwargs = dict(delimiter=\",\",\n",
    "               dtype=int,\n",
    "               names=\"a,b,c\",\n",
    "               missing_values={0:\"N/A\", 'b':\" \", 2:\"???\"},\n",
    "               filling_values={0:0, 'b':0, 2:-999})\n",
    "np.genfromtxt(BytesIO(data.encode('utf-8')), **kwargs)"
   ]
  },
  {
   "cell_type": "code",
   "execution_count": null,
   "metadata": {},
   "outputs": [],
   "source": []
  }
 ],
 "metadata": {
  "kernelspec": {
   "display_name": "Python 3",
   "language": "python",
   "name": "python3"
  },
  "language_info": {
   "codemirror_mode": {
    "name": "ipython",
    "version": 3
   },
   "file_extension": ".py",
   "mimetype": "text/x-python",
   "name": "python",
   "nbconvert_exporter": "python",
   "pygments_lexer": "ipython3",
   "version": "3.5.2"
  }
 },
 "nbformat": 4,
 "nbformat_minor": 2
}
