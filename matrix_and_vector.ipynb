{
 "cells": [
  {
   "cell_type": "code",
   "execution_count": 1,
   "metadata": {},
   "outputs": [
    {
     "data": {
      "text/plain": [
       "array([[ 1, -1,  2],\n",
       "       [ 3,  2,  0]])"
      ]
     },
     "execution_count": 1,
     "metadata": {},
     "output_type": "execute_result"
    }
   ],
   "source": [
    "import numpy as np\n",
    "\n",
    "A = np.array([[1,-1,2],\n",
    "              [3,2,0]])\n",
    "A"
   ]
  },
  {
   "cell_type": "code",
   "execution_count": 2,
   "metadata": {},
   "outputs": [
    {
     "data": {
      "text/plain": [
       "array([[2],\n",
       "       [1],\n",
       "       [3]])"
      ]
     },
     "execution_count": 2,
     "metadata": {},
     "output_type": "execute_result"
    }
   ],
   "source": [
    "v = np.array([[2],[1],[3]])\n",
    "v"
   ]
  },
  {
   "cell_type": "code",
   "execution_count": 3,
   "metadata": {},
   "outputs": [
    {
     "data": {
      "text/plain": [
       "array([2, 1, 3])"
      ]
     },
     "execution_count": 3,
     "metadata": {},
     "output_type": "execute_result"
    }
   ],
   "source": [
    "# vT\n",
    "v = np.transpose(np.array([2,1,3]))\n",
    "v"
   ]
  },
  {
   "cell_type": "code",
   "execution_count": 4,
   "metadata": {},
   "outputs": [
    {
     "data": {
      "text/plain": [
       "array([[-1],\n",
       "       [ 2]])"
      ]
     },
     "execution_count": 4,
     "metadata": {},
     "output_type": "execute_result"
    }
   ],
   "source": [
    "A[:, 1:2]"
   ]
  },
  {
   "cell_type": "code",
   "execution_count": 5,
   "metadata": {},
   "outputs": [
    {
     "data": {
      "text/plain": [
       "array([[-1],\n",
       "       [ 2]])"
      ]
     },
     "execution_count": 5,
     "metadata": {},
     "output_type": "execute_result"
    }
   ],
   "source": [
    "col = A[:, 1:2]\n",
    "col"
   ]
  },
  {
   "cell_type": "code",
   "execution_count": 6,
   "metadata": {},
   "outputs": [
    {
     "data": {
      "text/plain": [
       "array([7, 8])"
      ]
     },
     "execution_count": 6,
     "metadata": {},
     "output_type": "execute_result"
    }
   ],
   "source": [
    "# dot\n",
    "w = np.dot(A, v)\n",
    "w"
   ]
  },
  {
   "cell_type": "code",
   "execution_count": 7,
   "metadata": {},
   "outputs": [
    {
     "data": {
      "text/plain": [
       "array([[ 1.],\n",
       "       [-1.],\n",
       "       [ 2.]])"
      ]
     },
     "execution_count": 7,
     "metadata": {},
     "output_type": "execute_result"
    }
   ],
   "source": [
    "# numpy 求解方程组\n",
    "A = np.array([[2,1,-2],[3,0,1],[1,1,-1]])\n",
    "b = np.transpose(np.array([[-3,5,-2]]))\n",
    "\n",
    "x = np.linalg.solve(A, b)\n",
    "x"
   ]
  },
  {
   "cell_type": "code",
   "execution_count": 8,
   "metadata": {},
   "outputs": [],
   "source": [
    "# 多元线性回归\n",
    "# β = (XT X)-1 XT y\n",
    "# (XT X) β = XT y\n",
    "\n",
    "# Xt = np.transpose(X)\n",
    "# XtX = np.dot(Xt, X)\n",
    "# Xty = np.dot(Xt, y)\n",
    "# beta = np.linalg.solve(XtX, Xty)"
   ]
  },
  {
   "cell_type": "code",
   "execution_count": 15,
   "metadata": {},
   "outputs": [
    {
     "name": "stdout",
     "output_type": "stream",
     "text": [
      "[[-4.41876979e+03]\n",
      " [ 5.43403018e+00]\n",
      " [ 2.64492693e+03]\n",
      " [ 1.74664109e+04]\n",
      " [ 7.89810381e+03]]\n",
      "prediction = 102645.42909674905 actual = 82500.0\n",
      "prediction = 70760.07818441579 actual = 83000.0\n",
      "prediction = 97464.34037314806 actual = 84000.0\n",
      "prediction = 96667.0682376042 actual = 85000.0\n",
      "prediction = 105498.29494108135 actual = 85000.0\n",
      "prediction = 96124.59288113232 actual = 91500.0\n",
      "prediction = 102645.42909674905 actual = 94000.0\n",
      "prediction = 102645.42909674905 actual = 103000.0\n",
      "prediction = 86849.2214698665 actual = 105000.0\n",
      "prediction = 69382.81058659124 actual = 105000.0\n"
     ]
    }
   ],
   "source": [
    "# 对Windsor房价数据集进行线性回归\n",
    "import csv\n",
    "import numpy as np\n",
    "\n",
    "def readData():\n",
    "    X = []\n",
    "    y = []\n",
    "    with open('./data/Housing.csv') as f:\n",
    "        rdr = csv.reader(f)\n",
    "        # Skip the header row\n",
    "        next(rdr)\n",
    "        # Read X and y\n",
    "        for line in rdr:\n",
    "            xline = [1.0]\n",
    "            for s in line[2:6]:\n",
    "                xline.append(float(s))\n",
    "            X.append(xline)\n",
    "            y.append(float(line[1]))\n",
    "    return (X,y)\n",
    "\n",
    "X0,y0 = readData()\n",
    "# Convert all but the last 10 rows of the raw data to numpy arrays\n",
    "d = len(X0)-10\n",
    "X = np.array(X0[:d])\n",
    "y = np.transpose(np.array([y0[:d]]))\n",
    "\n",
    "# Compute beta\n",
    "Xt = np.transpose(X)\n",
    "XtX = np.dot(Xt,X)\n",
    "Xty = np.dot(Xt,y)\n",
    "beta = np.linalg.solve(XtX,Xty)\n",
    "print(beta)\n",
    "\n",
    "# Make predictions for the last 10 rows in the data set\n",
    "for data,actual in zip(X0[d:],y0[d:]):\n",
    "    x = np.array([data])\n",
    "    prediction = np.dot(x,beta)\n",
    "    print('prediction = '+str(prediction[0,0])+' actual = '+str(actual))"
   ]
  },
  {
   "cell_type": "code",
   "execution_count": null,
   "metadata": {},
   "outputs": [],
   "source": []
  },
  {
   "cell_type": "code",
   "execution_count": null,
   "metadata": {},
   "outputs": [],
   "source": []
  }
 ],
 "metadata": {
  "kernelspec": {
   "display_name": "Python 3",
   "language": "python",
   "name": "python3"
  },
  "language_info": {
   "codemirror_mode": {
    "name": "ipython",
    "version": 3
   },
   "file_extension": ".py",
   "mimetype": "text/x-python",
   "name": "python",
   "nbconvert_exporter": "python",
   "pygments_lexer": "ipython3",
   "version": "3.5.2"
  }
 },
 "nbformat": 4,
 "nbformat_minor": 2
}
